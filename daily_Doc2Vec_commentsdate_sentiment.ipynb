{
 "cells": [
  {
   "cell_type": "markdown",
   "metadata": {},
   "source": [
    "## Load packages"
   ]
  },
  {
   "cell_type": "code",
   "execution_count": 640,
   "metadata": {},
   "outputs": [],
   "source": [
    "import pandas as pd\n",
    "import numpy as np\n",
    "from sklearn.feature_extraction.text import TfidfVectorizer\n",
    "from gensim.parsing.preprocessing import remove_stopwords, strip_punctuation\n",
    "from nltk.tokenize import RegexpTokenizer\n",
    "from nltk.stem.wordnet import WordNetLemmatizer\n",
    "from gensim.models  import Phrases\n",
    "import gensim\n",
    "from sklearn.externals import joblib\n",
    "from gensim.models import Doc2Vec\n",
    "from scipy import spatial\n",
    "import datetime\n",
    "from collections import defaultdict, Counter\n",
    "import itertools\n",
    "from datetime import datetime\n",
    "import pickle\n",
    "import string\n",
    "from nltk.corpus import stopwords\n",
    "from nltk.stem import WordNetLemmatizer\n",
    "import re\n",
    "import string\n",
    "from nltk.stem import SnowballStemmer\n",
    "from string import punctuation\n",
    "import time\n",
    "import pickle\n",
    "import matplotlib.pyplot as plt\n",
    "%matplotlib inline\n",
    "import seaborn as sns\n",
    "import os\n",
    "os.environ[\"TF_CPP_MIN_LOG_LEVEL\"]=\"3\"\n"
   ]
  },
  {
   "cell_type": "markdown",
   "metadata": {},
   "source": [
    "### I build dictionary to save Date and Performance and time consuming"
   ]
  },
  {
   "cell_type": "code",
   "execution_count": 66,
   "metadata": {},
   "outputs": [],
   "source": [
    "daily_performance={}\n"
   ]
  },
  {
   "cell_type": "markdown",
   "metadata": {},
   "source": [
    "## Buld DoctoVec property by entire opinion lab dataset from Jan 2017 to yesterday. "
   ]
  },
  {
   "cell_type": "code",
   "execution_count": 1404,
   "metadata": {},
   "outputs": [],
   "source": [
    "last_data=pd.read_csv('/Users/Azi/Downloads/formatted_jan3.csv',encoding='latin-1',low_memory=False)\n"
   ]
  },
  {
   "cell_type": "code",
   "execution_count": 1405,
   "metadata": {},
   "outputs": [],
   "source": [
    "last_data['Date']=pd.to_datetime(last_data['Submission Date'])\n",
    "last_data['Year'] = last_data['Date'].dt.year\n",
    "year_2019=last_data[(last_data['Year']==2019)] \n"
   ]
  },
  {
   "cell_type": "markdown",
   "metadata": {},
   "source": [
    "#### Read last dataset for OPL in 2018"
   ]
  },
  {
   "cell_type": "code",
   "execution_count": 1406,
   "metadata": {},
   "outputs": [],
   "source": [
    "\n",
    "\n",
    "opl_df2018last=pd.read_csv('/Users/Azi/Downloads/formatted_new30.csv',encoding='latin-1',low_memory=False)\n",
    "\n",
    "df1= pd.concat([year_2019,opl_df2018last], sort=True)"
   ]
  },
  {
   "cell_type": "markdown",
   "metadata": {},
   "source": [
    "#### Read last dataset for OPL in 2017"
   ]
  },
  {
   "cell_type": "code",
   "execution_count": 1245,
   "metadata": {},
   "outputs": [
    {
     "data": {
      "text/html": [
       "<div>\n",
       "<style scoped>\n",
       "    .dataframe tbody tr th:only-of-type {\n",
       "        vertical-align: middle;\n",
       "    }\n",
       "\n",
       "    .dataframe tbody tr th {\n",
       "        vertical-align: top;\n",
       "    }\n",
       "\n",
       "    .dataframe thead th {\n",
       "        text-align: right;\n",
       "    }\n",
       "</style>\n",
       "<table border=\"1\" class=\"dataframe\">\n",
       "  <thead>\n",
       "    <tr style=\"text-align: right;\">\n",
       "      <th></th>\n",
       "      <th>Browser Name</th>\n",
       "      <th>CCSID</th>\n",
       "      <th>CommentID</th>\n",
       "      <th>Comments</th>\n",
       "      <th>Device Type</th>\n",
       "      <th>OS Name</th>\n",
       "      <th>Overall Rating</th>\n",
       "      <th>Source</th>\n",
       "      <th>Submission Date</th>\n",
       "    </tr>\n",
       "  </thead>\n",
       "  <tbody>\n",
       "    <tr>\n",
       "      <th>0</th>\n",
       "      <td>Safari</td>\n",
       "      <td>NaN</td>\n",
       "      <td>00000005-91cc-eeec-0000-015958c09448</td>\n",
       "      <td>You must credit payments in a timely manner or...</td>\n",
       "      <td>Mobile Phone</td>\n",
       "      <td>iOS</td>\n",
       "      <td>2</td>\n",
       "      <td>Opinion Lab</td>\n",
       "      <td>01/01/2017 12:38 AM</td>\n",
       "    </tr>\n",
       "    <tr>\n",
       "      <th>1</th>\n",
       "      <td>Chrome Mobile</td>\n",
       "      <td>NaN</td>\n",
       "      <td>00000005-91cd-6c4d-0000-015958c9a0b0</td>\n",
       "      <td>Too many error messages</td>\n",
       "      <td>Mobile Phone</td>\n",
       "      <td>Android</td>\n",
       "      <td>3</td>\n",
       "      <td>Opinion Lab</td>\n",
       "      <td>01/01/2017 12:48 AM</td>\n",
       "    </tr>\n",
       "    <tr>\n",
       "      <th>2</th>\n",
       "      <td>Safari</td>\n",
       "      <td>NaN</td>\n",
       "      <td>00000005-91ce-05d5-0000-015958d90a00</td>\n",
       "      <td>Sucks</td>\n",
       "      <td>Mobile Phone</td>\n",
       "      <td>iOS</td>\n",
       "      <td>1</td>\n",
       "      <td>Opinion Lab</td>\n",
       "      <td>01/01/2017 01:05 AM</td>\n",
       "    </tr>\n",
       "  </tbody>\n",
       "</table>\n",
       "</div>"
      ],
      "text/plain": [
       "    Browser Name CCSID                             CommentID  \\\n",
       "0         Safari   NaN  00000005-91cc-eeec-0000-015958c09448   \n",
       "1  Chrome Mobile   NaN  00000005-91cd-6c4d-0000-015958c9a0b0   \n",
       "2         Safari   NaN  00000005-91ce-05d5-0000-015958d90a00   \n",
       "\n",
       "                                            Comments   Device Type  OS Name  \\\n",
       "0  You must credit payments in a timely manner or...  Mobile Phone      iOS   \n",
       "1                            Too many error messages  Mobile Phone  Android   \n",
       "2                                              Sucks  Mobile Phone      iOS   \n",
       "\n",
       "   Overall Rating       Source      Submission Date  \n",
       "0               2  Opinion Lab  01/01/2017 12:38 AM  \n",
       "1               3  Opinion Lab  01/01/2017 12:48 AM  \n",
       "2               1  Opinion Lab  01/01/2017 01:05 AM  "
      ]
     },
     "execution_count": 1245,
     "metadata": {},
     "output_type": "execute_result"
    }
   ],
   "source": [
    "\n",
    "\n",
    "\n",
    "opl_2017=pd.read_csv(\"/Users/Azi/Citibank/OpinionLab_012017_122017.csv\",encoding='latin-1',low_memory=False)\n",
    "\n",
    "df1= pd.concat([opl_2017,opl_df2018last], sort=True)\n",
    "df1[0:3]"
   ]
  },
  {
   "cell_type": "code",
   "execution_count": null,
   "metadata": {},
   "outputs": [],
   "source": [
    "def preprocess(row, sw= False):\n",
    "    if isinstance(row, str):\n",
    "        s = row.lower()\n",
    "        s = ' '.join(w for w in s.split(' ') if \"'\" not in w)\n",
    "        s = strip_punctuation(s)\n",
    "        if sw:\n",
    "        \ts = remove_stopwords(s)\n",
    "        for w in drop_words:\n",
    "            s = s.replace(w,'')\n",
    "        t = tokenizer.tokenize(s) \n",
    "        t = [lemmatizer.lemmatize(token) for token in t]\n",
    "        t = [token for token in t if not token.isnumeric()]\n",
    "        t = [token for token in t if len(token) > 1]\n",
    "\n",
    "        return(t)\n",
    "    else: \n",
    "        print(row)\n",
    "        return ('')\n",
    "lemmatizer = WordNetLemmatizer()\n",
    "tokenizer = RegexpTokenizer(r'\\w+')\n",
    "#Create Corpus for training gensim bigram/trigram models\n",
    "phraser_corp = df1.Comments.apply(lambda x: preprocess(x, False)).values\n",
    "bigram = Phrases(phraser_corp, min_count=30)\n",
    "trigram = Phrases([bigram[p] for p in phraser_corp], min_count =30)\n",
    "\n"
   ]
  },
  {
   "cell_type": "markdown",
   "metadata": {},
   "source": [
    "### Cleaning comments and bulid train corpus"
   ]
  },
  {
   "cell_type": "code",
   "execution_count": 1407,
   "metadata": {},
   "outputs": [],
   "source": [
    "def build_train_corpus(opl):\n",
    "    print (\"Size of initail Dataset\",opl.shape)\n",
    "    opl.dropna()\n",
    "    print (opl.shape[0])\n",
    "\n",
    "    opl.drop_duplicates(subset=None, keep='first', inplace=True)\n",
    "    opl = opl[opl.Comments.str.count(' ')>3]\n",
    "    print (opl.shape[0])\n",
    "    print (\"Size of Dataset after removing the nan value and duplicates\",opl.shape)\n",
    "    opl=opl[~opl.Comments.str.contains(\"Farhat Deeba\")]\n",
    "    opl=opl[~opl.Comments.str.contains(\"ï¼ xì ¼ê²½ì xë ï¼\")]\n",
    "    opl=opl[~opl.Comments.str.contains(\"ï¼\")]\n",
    "    opl=opl[~opl.Comments.str.contains(\"Farhat Deeba\")]\n",
    "    opl=opl[~opl.Comments.str.contains(\"Ã¯Â¼Â‚xÃ¬Â‹ÂœÃªÂ°Â\")]\n",
    "    opl=opl[~opl.Comments.str.contains(\"¼ê²½ìƒ‰Â·ë\")]\n",
    "    opl=opl[~opl.Comments.str.contains(\"xxzxzdrddxxxxxxxf\")]\n",
    "    opl=opl[~opl.Comments.str.contains(\"¼ê²½ì\")] \n",
    "    opl=opl[~opl.Comments.str.contains(\"Facebook | Facebook\")] \n",
    "\n",
    "    print (\"Size of Dataset after removing some noises such as Farhat Deeba\",opl.shape)\n",
    "    opl[\"Comments\"] = opl[\"Comments\"].apply(lambda x: ''.join([\"\" if ord(i) < 32 or ord(i) > 126 else i for i in x]))\n",
    "\n",
    "    opl['Date']=pd.to_datetime(opl['Submission Date'])\n",
    "    max_date=max (opl.Date)\n",
    "    min_date=min (opl.Date)\n",
    "    print ('OPL Date is from:', min_date, 'to', max_date )\n",
    "    opl['Month'] = opl['Date'].dt.month\n",
    "    opl['Year'] = opl['Date'].dt.year\n",
    "\n",
    "    opl['Month']= opl['Month'].astype(str)\n",
    "    look_up = {'1': 'Jan', '2': 'Feb', '3': 'Mar', '4':\n",
    "           'Apr', '5': 'May', '6': 'Jun', '7': 'Jul', '8': 'Aug', '9': 'Sep', '10': 'Oct', '11': 'Nov', '12': 'Dec'}\n",
    "\n",
    "    opl['Month'] = opl['Month'].apply(lambda x: look_up[x])\n",
    "    year_2018=opl[(opl['Year']==2019)] \n",
    "    year_2018=opl[(opl['Year']==2018)] \n",
    "    year_2017=opl[(opl['Year']==2017)] \n",
    "    \n",
    "    opl=opl[(opl[\"Date\"]<'2019-01-20')]\n",
    "    \n",
    "\n",
    "\n",
    "\n",
    "    print (max (opl.Date))\n",
    "\n",
    "    print (\"Month in\", year_2019[\"Year\"].unique(),year_2019['Month'].unique())\n",
    "    print (\"Month in\", year_2018[\"Year\"].unique(),year_2018['Month'].unique())\n",
    "    print (\"Month in\",year_2017[\"Year\"].unique() , year_2017['Month'].unique())\n",
    "    opl['Doc_NLP'] = opl['Comments'].apply(lambda x: preprocess(x, False))\n",
    "    opl['Comments_NLP'] = opl['Comments'].apply(lambda x: preprocess(x, True))\n",
    "    opl['Comments_NLP'] = opl['Comments_NLP'].apply(lambda x: ' '.join(x))\n",
    "    corpus = opl.Doc_NLP.values\n",
    "    training_corpus = [gensim.models.doc2vec.TaggedDocument(i,[j]) for i,j in zip(corpus,range(len(corpus)))]\n",
    "    print (\"Size of trainging corpus:\", len (training_corpus))\n",
    "    return training_corpus, opl\n",
    "\n"
   ]
  },
  {
   "cell_type": "code",
   "execution_count": 1381,
   "metadata": {},
   "outputs": [],
   "source": [
    "drop_words = []"
   ]
  },
  {
   "cell_type": "code",
   "execution_count": 1408,
   "metadata": {},
   "outputs": [
    {
     "name": "stdout",
     "output_type": "stream",
     "text": [
      "Size of initail Dataset (71122, 11)\n",
      "71122\n",
      "65959\n",
      "Size of Dataset after removing the nan value and duplicates (65959, 11)\n",
      "Size of Dataset after removing some noises such as Farhat Deeba (65907, 11)\n",
      "OPL Date is from: 2017-12-30 00:10:00 to 2019-01-03 23:59:00\n",
      "2019-01-03 23:59:00\n",
      "Month in [2019] ['Jan' 'Feb' 'Mar' 'Apr' 'May' 'Jun' 'Jul' 'Aug' 'Sep' 'Oct' 'Nov' 'Dec']\n",
      "Month in [2018] ['Jan' 'Feb' 'Mar' 'Apr' 'May' 'Jun' 'Jul' 'Aug' 'Sep' 'Oct' 'Nov' 'Dec']\n",
      "Month in [2017] ['Dec']\n",
      "Size of trainging corpus: 65907\n"
     ]
    }
   ],
   "source": [
    "training_corpus, opl=build_train_corpus(df1)"
   ]
  },
  {
   "cell_type": "code",
   "execution_count": 334,
   "metadata": {},
   "outputs": [
    {
     "name": "stdout",
     "output_type": "stream",
     "text": [
      "nan\n",
      "nan\n"
     ]
    }
   ],
   "source": [
    "lemmatizer = WordNetLemmatizer()\n",
    "tokenizer = RegexpTokenizer(r'\\w+')\n",
    "#Create Corpus for training gensim bigram/trigram models\n",
    "phraser_corp = df1.Comments.apply(lambda x: preprocess(x, False)).values\n",
    "bigram = Phrases(phraser_corp, min_count=30)\n",
    "trigram = Phrases([bigram[p] for p in phraser_corp], min_count =30)\n"
   ]
  },
  {
   "cell_type": "markdown",
   "metadata": {},
   "source": [
    "### Training Doc2Vec by gensim and save the Doc2vec by max Date with distingushied name"
   ]
  },
  {
   "cell_type": "code",
   "execution_count": 1410,
   "metadata": {},
   "outputs": [
    {
     "name": "stderr",
     "output_type": "stream",
     "text": [
      "/Library/Frameworks/Python.framework/Versions/3.7/lib/python3.7/site-packages/ipykernel_launcher.py:2: DeprecationWarning: time.clock has been deprecated in Python 3.3 and will be removed from Python 3.8: use time.perf_counter or time.process_time instead\n",
      "  \n",
      "/Library/Frameworks/Python.framework/Versions/3.7/lib/python3.7/site-packages/gensim/models/doc2vec.py:531: UserWarning: The parameter `iter` is deprecated, will be removed in 4.0.0, use `epochs` instead.\n",
      "  warnings.warn(\"The parameter `iter` is deprecated, will be removed in 4.0.0, use `epochs` instead.\")\n",
      "/Library/Frameworks/Python.framework/Versions/3.7/lib/python3.7/site-packages/gensim/models/doc2vec.py:535: UserWarning: The parameter `size` is deprecated, will be removed in 4.0.0, use `vector_size` instead.\n",
      "  warnings.warn(\"The parameter `size` is deprecated, will be removed in 4.0.0, use `vector_size` instead.\")\n",
      "/Library/Frameworks/Python.framework/Versions/3.7/lib/python3.7/site-packages/ipykernel_launcher.py:1: DeprecationWarning: Call to deprecated `iter` (Attribute will be removed in 4.0.0, use self.epochs instead).\n",
      "  \"\"\"Entry point for launching an IPython kernel.\n"
     ]
    },
    {
     "name": "stdout",
     "output_type": "stream",
     "text": [
      "CPU times: user 1min 6s, sys: 24.1 s, total: 1min 30s\n",
      "Wall time: 56.4 s\n"
     ]
    }
   ],
   "source": [
    "import time\n",
    "start_time=time.clock()\n",
    "sz = 100 \n",
    "win =5\n",
    "neg=5\n",
    "it = 10\n",
    "workers = 4\n",
    "\n",
    "#Train model using gradient descent\n",
    "model_db = gensim.models.doc2vec.Doc2Vec(size=sz, window= win, min_count=2, negative=neg, hs=0, iter = it, dbow_words =0,\n",
    " workers = workers,  dm_mean=1,learn_words=True )\n",
    "model_db.build_vocab(training_corpus)\n",
    "model_db.build_vocab(training_corpus, update=True)\n",
    "%time model_db.train(training_corpus, total_examples=model_db.corpus_count ,epochs=model_db.iter)\n",
    "alpha = 0.025\n",
    "learn_words=True\n",
    "min_alpha = 0.0002\n",
    "num_epochs = 5# 50 for medallia\n",
    "alpha_delta = (alpha - min_alpha) / num_epochs"
   ]
  },
  {
   "cell_type": "markdown",
   "metadata": {},
   "source": [
    "#### We can increase the number of the epochs"
   ]
  },
  {
   "cell_type": "code",
   "execution_count": 1411,
   "metadata": {},
   "outputs": [
    {
     "name": "stdout",
     "output_type": "stream",
     "text": [
      "0\n"
     ]
    },
    {
     "name": "stderr",
     "output_type": "stream",
     "text": [
      "/Library/Frameworks/Python.framework/Versions/3.7/lib/python3.7/site-packages/ipykernel_launcher.py:6: DeprecationWarning: Call to deprecated `iter` (Attribute will be removed in 4.0.0, use self.epochs instead).\n",
      "  \n"
     ]
    },
    {
     "name": "stdout",
     "output_type": "stream",
     "text": [
      "1\n",
      "2\n",
      "3\n",
      "4\n"
     ]
    }
   ],
   "source": [
    "for epoch in range(num_epochs):\n",
    "    print(epoch)\n",
    "    np.random.shuffle(training_corpus)\n",
    "    model_db.alpha = alpha\n",
    "    model_db.min_alpha = alpha\n",
    "    model_db.train(training_corpus, total_examples=model_db.corpus_count, epochs=model_db.iter)\n",
    "    alpha -= alpha_delta \n",
    "\n",
    "\n",
    "max_DATE=max(opl.Date)\n",
    "filename = 'FunctionDoc2Vec-%s'%max_DATE.strftime('%Y-%m-%d')\n",
    "model_db.save(filename)\n",
    "\n",
    "\n",
    "\n",
    "#model_db.save('OPLtest')"
   ]
  },
  {
   "cell_type": "markdown",
   "metadata": {},
   "source": [
    "### Size of the Train Corpus"
   ]
  },
  {
   "cell_type": "code",
   "execution_count": 1356,
   "metadata": {},
   "outputs": [
    {
     "data": {
      "text/plain": [
       "65429"
      ]
     },
     "execution_count": 1356,
     "metadata": {},
     "output_type": "execute_result"
    }
   ],
   "source": [
    "model_db.corpus_count"
   ]
  },
  {
   "cell_type": "markdown",
   "metadata": {},
   "source": [
    "### Generate helper function to take actual comment full text and find doctag along with Date and Sentiment"
   ]
  },
  {
   "cell_type": "code",
   "execution_count": 228,
   "metadata": {},
   "outputs": [],
   "source": [
    "def comment_tag_score(model_db,top_k,tokens,df):\n",
    "    \n",
    "    Comment_Date=df[[\"Comments\",\"Submission Date\", 'Comments_NLP','Date']].reset_index()\n",
    "    Comment_Date.dropna()\n",
    "    X=model_db.docvecs.vectors_docs\n",
    "    print (\"Size of the Doc2Vec property is\",len(X)) \n",
    "\n",
    "    np.savetxt('doc_vect_test.csv', X, delimiter=',') \n",
    "    doctovec=pd.read_csv('doc_vect_test.csv',  header=None)\n",
    "    dans_vector_Comment = pd.concat([Comment_Date, doctovec], axis=1).reset_index()\n",
    "    dans_vector_Comment=dans_vector_Comment.rename(columns={\"index\":\"Comment_index\"})\n",
    "    dans_vector_Comment=dans_vector_Comment.rename(columns={\"level_0\":\"Comment_index_1\"})\n",
    "\n",
    "    print (\"Tag_Document\")\n",
    "    tag_document= pd.DataFrame(training_corpus).reset_index()\n",
    "    tag_document_tag=tag_document.sort_values('tags').reset_index()\n",
    "    new_datafram = pd.concat([tag_document_tag, dans_vector_Comment], axis=1)\n",
    "    new_datafram = new_datafram.drop('index', 1)\n",
    "    new_datafram = new_datafram.drop('level_0', 1)\n",
    "    inferred_docvec = model_db.infer_vector(tokens, alpha=0.025, min_alpha=0.00001, steps=2000000)\n",
    "    sims = model_db.docvecs.most_similar([inferred_docvec],topn=top_k )\n",
    "    \n",
    "    test = dict(sims)\n",
    "    tag=list (test.keys()) \n",
    "    #print ('tag',tag)\n",
    "    #print (sims)\n",
    "    analogy_doc = pd.DataFrame(sims)\n",
    "    \n",
    "    similar_doc=new_datafram[new_datafram['Comment_index_1'].isin(tag)] \n",
    "    test = dict(sims)\n",
    "\n",
    "    analogy_doc = pd.DataFrame(sims)\n",
    "    analogy_doc.columns=[\"Comment_index_1\", \"Score\"]\n",
    "    #print (analogy_doc[0:4])\n",
    "\n",
    "    Simliar_comment_tag=new_datafram[new_datafram['Comment_index_1'].isin(tag)]\n",
    "    #print (\"Simliar_comment_tag\",Simliar_comment_tag[0:5])\n",
    "    Similar_Comment_Date=Simliar_comment_tag[['Comment_index_1','words','tags', 'Comments','Submission Date','Comments_NLP','Date']]\n",
    "    result = pd.merge(Similar_Comment_Date, analogy_doc, on='Comment_index_1')\n",
    "    #print (result)\n",
    "    #similar_document_score=result.sort_values('Score',  ascending=[False]).reset_index()\n",
    "    similar_document_score=result.sort_values(['Date', 'Score'], ascending=[False, False]).reset_index()\n",
    "    similar_document_score = similar_document_score.drop('index', 1)\n",
    "    similar_document_score.rename(columns = {'Comment_index_1':'Comment_Index'},inplace=True)\n",
    "    #print(tokens)\n",
    "    pickle_in = open(\"/Users/Azi/Citibank/pickle_model.pkl\",\"rb\")\n",
    "    load_model_sentiment = pickle.load(pickle_in) \n",
    "    my_tags = ['negative','neutral','positive']\n",
    "\n",
    "    new_sentiment= load_model_sentiment.predict(similar_document_score.Comments)\n",
    "    print (new_sentiment[0:2])\n",
    "    similar_document_score['sentiment']=new_sentiment\n",
    "\n",
    "    return similar_document_score\n",
    "    "
   ]
  },
  {
   "cell_type": "code",
   "execution_count": 1412,
   "metadata": {},
   "outputs": [
    {
     "data": {
      "text/plain": [
       "(65907, 65907)"
      ]
     },
     "execution_count": 1412,
     "metadata": {},
     "output_type": "execute_result"
    }
   ],
   "source": [
    "len (training_corpus),len (opl)"
   ]
  },
  {
   "cell_type": "code",
   "execution_count": 1256,
   "metadata": {},
   "outputs": [],
   "source": [
    "def prediction_evaluation(new_review):\n",
    "    \n",
    "    print (\"Load the model object by Pickel, Model is trained by entire Opoinion lab data set from Jan 2017 to Oct 2018\")\n",
    "    print (\"\\n\")\n",
    "    #if __name__=='__main__':\n",
    "        #with open('pickle_model.pkl', 'rb') as f:\n",
    "            #users = pickle.load(f)\n",
    "        \n",
    "        \n",
    "    pickle_in = open(\"/Users/Azi/Citibank/pickle_model.pkl\",\"rb\")\n",
    "    load_model_sentiment = pickle.load(pickle_in) \n",
    "    my_tags = ['negative','neutral','positive']\n",
    "\n",
    "    new_sentiment= load_model_sentiment.predict(new_review)\n",
    "    new_review['new_sentiment']=new_sentiment\n",
    "    new_review.to_csv(\"C:/Users/ae07525/Desktop/full_OPL.csv\")\n",
    "\n",
    "    print('accuracy %s' % accuracy_score( new_review.feeling, new_sentiment))\n",
    "    print ('Confution Matrix')\n",
    "    print(classification_report(new_review.feeling, new_sentiment,target_names=my_tags))\n",
    "\n",
    "\n",
    "\n",
    "    new_review[\"Sentimin_feeling\"]=new_sentiment\n",
    "    print (\"Distribution of \",new_review.groupby('feeling').size())\n",
    "    print (new_review[0:3])\n",
    "    print (\"Saving new_senmtimet_label in CSV format\")\n",
    "    new_review.to_csv('New_text_classification.csv')\n",
    "    \n",
    "    \n",
    "    \n",
    "    \n",
    "    return new_review\n",
    "    "
   ]
  },
  {
   "cell_type": "code",
   "execution_count": 1385,
   "metadata": {},
   "outputs": [],
   "source": [
    "\n",
    "token='bonus not received'"
   ]
  },
  {
   "cell_type": "code",
   "execution_count": 1386,
   "metadata": {},
   "outputs": [
    {
     "name": "stdout",
     "output_type": "stream",
     "text": [
      "['bonus', 'not', 'received']\n",
      "Size of the Doc2Vec property is 65228\n",
      "Tag_Document\n"
     ]
    },
    {
     "name": "stderr",
     "output_type": "stream",
     "text": [
      "/Library/Frameworks/Python.framework/Versions/3.7/lib/python3.7/site-packages/gensim/matutils.py:737: FutureWarning: Conversion of the second argument of issubdtype from `int` to `np.signedinteger` is deprecated. In future, it will be treated as `np.int64 == np.dtype(int).type`.\n",
      "  if np.issubdtype(vec.dtype, np.int):\n"
     ]
    },
    {
     "name": "stdout",
     "output_type": "stream",
     "text": [
      "['negative' 'negative']\n"
     ]
    },
    {
     "data": {
      "text/html": [
       "<div>\n",
       "<style scoped>\n",
       "    .dataframe tbody tr th:only-of-type {\n",
       "        vertical-align: middle;\n",
       "    }\n",
       "\n",
       "    .dataframe tbody tr th {\n",
       "        vertical-align: top;\n",
       "    }\n",
       "\n",
       "    .dataframe thead th {\n",
       "        text-align: right;\n",
       "    }\n",
       "</style>\n",
       "<table border=\"1\" class=\"dataframe\">\n",
       "  <thead>\n",
       "    <tr style=\"text-align: right;\">\n",
       "      <th></th>\n",
       "      <th>Comment_Index</th>\n",
       "      <th>Comments</th>\n",
       "      <th>Date</th>\n",
       "      <th>Score</th>\n",
       "      <th>sentiment</th>\n",
       "    </tr>\n",
       "  </thead>\n",
       "  <tbody>\n",
       "    <tr>\n",
       "      <th>0</th>\n",
       "      <td>35498</td>\n",
       "      <td>It stated if i opened an account on line i wou...</td>\n",
       "      <td>2018-12-26 02:07:00</td>\n",
       "      <td>0.383813</td>\n",
       "      <td>negative</td>\n",
       "    </tr>\n",
       "    <tr>\n",
       "      <th>1</th>\n",
       "      <td>34307</td>\n",
       "      <td>Credit for return not posted soon enough on ap...</td>\n",
       "      <td>2018-12-14 13:47:00</td>\n",
       "      <td>0.387087</td>\n",
       "      <td>negative</td>\n",
       "    </tr>\n",
       "    <tr>\n",
       "      <th>2</th>\n",
       "      <td>33749</td>\n",
       "      <td>I never got my sign up bonus</td>\n",
       "      <td>2018-12-10 07:42:00</td>\n",
       "      <td>0.455954</td>\n",
       "      <td>negative</td>\n",
       "    </tr>\n",
       "    <tr>\n",
       "      <th>3</th>\n",
       "      <td>62889</td>\n",
       "      <td>I have not gotten a response regarding my bonu...</td>\n",
       "      <td>2018-12-05 10:43:00</td>\n",
       "      <td>0.505958</td>\n",
       "      <td>negative</td>\n",
       "    </tr>\n",
       "    <tr>\n",
       "      <th>4</th>\n",
       "      <td>62220</td>\n",
       "      <td>Always receive the best customer services , gu...</td>\n",
       "      <td>2018-11-28 20:08:00</td>\n",
       "      <td>0.381428</td>\n",
       "      <td>negative</td>\n",
       "    </tr>\n",
       "    <tr>\n",
       "      <th>5</th>\n",
       "      <td>58658</td>\n",
       "      <td>Question about my checking/saving bonus</td>\n",
       "      <td>2018-10-26 15:51:00</td>\n",
       "      <td>0.405631</td>\n",
       "      <td>negative</td>\n",
       "    </tr>\n",
       "    <tr>\n",
       "      <th>6</th>\n",
       "      <td>27400</td>\n",
       "      <td>I have not been able to log into the app at al...</td>\n",
       "      <td>2018-10-08 10:55:00</td>\n",
       "      <td>0.411902</td>\n",
       "      <td>negative</td>\n",
       "    </tr>\n",
       "    <tr>\n",
       "      <th>7</th>\n",
       "      <td>26985</td>\n",
       "      <td>It takes too long for things to come out of pe...</td>\n",
       "      <td>2018-10-04 12:42:00</td>\n",
       "      <td>0.423987</td>\n",
       "      <td>negative</td>\n",
       "    </tr>\n",
       "    <tr>\n",
       "      <th>8</th>\n",
       "      <td>26647</td>\n",
       "      <td>Could not find what the x% quarterly spending ...</td>\n",
       "      <td>2018-09-30 18:35:00</td>\n",
       "      <td>0.382706</td>\n",
       "      <td>negative</td>\n",
       "    </tr>\n",
       "    <tr>\n",
       "      <th>9</th>\n",
       "      <td>54185</td>\n",
       "      <td>I requested xxxx statements- I have not received</td>\n",
       "      <td>2018-09-05 11:49:00</td>\n",
       "      <td>0.436794</td>\n",
       "      <td>negative</td>\n",
       "    </tr>\n",
       "    <tr>\n",
       "      <th>10</th>\n",
       "      <td>53305</td>\n",
       "      <td>I called these people hung up on me.  I have n...</td>\n",
       "      <td>2018-08-24 17:53:00</td>\n",
       "      <td>0.397795</td>\n",
       "      <td>negative</td>\n",
       "    </tr>\n",
       "    <tr>\n",
       "      <th>11</th>\n",
       "      <td>53054</td>\n",
       "      <td>Hello, curious as to my statement balance</td>\n",
       "      <td>2018-08-22 12:58:00</td>\n",
       "      <td>0.399352</td>\n",
       "      <td>negative</td>\n",
       "    </tr>\n",
       "    <tr>\n",
       "      <th>12</th>\n",
       "      <td>20373</td>\n",
       "      <td>I posted a payment on x/x and it was not remov...</td>\n",
       "      <td>2018-07-24 18:01:00</td>\n",
       "      <td>0.394809</td>\n",
       "      <td>negative</td>\n",
       "    </tr>\n",
       "    <tr>\n",
       "      <th>13</th>\n",
       "      <td>18633</td>\n",
       "      <td>Deposits should not be in the Payment section</td>\n",
       "      <td>2018-07-06 13:57:00</td>\n",
       "      <td>0.379677</td>\n",
       "      <td>positive</td>\n",
       "    </tr>\n",
       "    <tr>\n",
       "      <th>14</th>\n",
       "      <td>16434</td>\n",
       "      <td>App doesnt work without WiFi</td>\n",
       "      <td>2018-06-18 11:43:00</td>\n",
       "      <td>0.401895</td>\n",
       "      <td>negative</td>\n",
       "    </tr>\n",
       "    <tr>\n",
       "      <th>15</th>\n",
       "      <td>13635</td>\n",
       "      <td>Please provide an alert for credits received o...</td>\n",
       "      <td>2018-05-22 13:40:00</td>\n",
       "      <td>0.402665</td>\n",
       "      <td>negative</td>\n",
       "    </tr>\n",
       "    <tr>\n",
       "      <th>16</th>\n",
       "      <td>45832</td>\n",
       "      <td>I received outstanding service today.</td>\n",
       "      <td>2018-05-02 15:33:00</td>\n",
       "      <td>0.395606</td>\n",
       "      <td>positive</td>\n",
       "    </tr>\n",
       "    <tr>\n",
       "      <th>17</th>\n",
       "      <td>45657</td>\n",
       "      <td>I can not read anything on the website</td>\n",
       "      <td>2018-04-30 22:16:00</td>\n",
       "      <td>0.399579</td>\n",
       "      <td>negative</td>\n",
       "    </tr>\n",
       "    <tr>\n",
       "      <th>18</th>\n",
       "      <td>6946</td>\n",
       "      <td>Several times I have received an error message...</td>\n",
       "      <td>2018-03-04 17:10:00</td>\n",
       "      <td>0.410220</td>\n",
       "      <td>negative</td>\n",
       "    </tr>\n",
       "    <tr>\n",
       "      <th>19</th>\n",
       "      <td>40405</td>\n",
       "      <td>I was not finished when I was disconnected</td>\n",
       "      <td>2018-02-17 10:49:00</td>\n",
       "      <td>0.383100</td>\n",
       "      <td>negative</td>\n",
       "    </tr>\n",
       "  </tbody>\n",
       "</table>\n",
       "</div>"
      ],
      "text/plain": [
       "    Comment_Index                                           Comments  \\\n",
       "0           35498  It stated if i opened an account on line i wou...   \n",
       "1           34307  Credit for return not posted soon enough on ap...   \n",
       "2           33749                       I never got my sign up bonus   \n",
       "3           62889  I have not gotten a response regarding my bonu...   \n",
       "4           62220  Always receive the best customer services , gu...   \n",
       "5           58658            Question about my checking/saving bonus   \n",
       "6           27400  I have not been able to log into the app at al...   \n",
       "7           26985  It takes too long for things to come out of pe...   \n",
       "8           26647  Could not find what the x% quarterly spending ...   \n",
       "9           54185   I requested xxxx statements- I have not received   \n",
       "10          53305  I called these people hung up on me.  I have n...   \n",
       "11          53054          Hello, curious as to my statement balance   \n",
       "12          20373  I posted a payment on x/x and it was not remov...   \n",
       "13          18633      Deposits should not be in the Payment section   \n",
       "14          16434                       App doesnt work without WiFi   \n",
       "15          13635  Please provide an alert for credits received o...   \n",
       "16          45832              I received outstanding service today.   \n",
       "17          45657             I can not read anything on the website   \n",
       "18           6946  Several times I have received an error message...   \n",
       "19          40405         I was not finished when I was disconnected   \n",
       "\n",
       "                  Date     Score sentiment  \n",
       "0  2018-12-26 02:07:00  0.383813  negative  \n",
       "1  2018-12-14 13:47:00  0.387087  negative  \n",
       "2  2018-12-10 07:42:00  0.455954  negative  \n",
       "3  2018-12-05 10:43:00  0.505958  negative  \n",
       "4  2018-11-28 20:08:00  0.381428  negative  \n",
       "5  2018-10-26 15:51:00  0.405631  negative  \n",
       "6  2018-10-08 10:55:00  0.411902  negative  \n",
       "7  2018-10-04 12:42:00  0.423987  negative  \n",
       "8  2018-09-30 18:35:00  0.382706  negative  \n",
       "9  2018-09-05 11:49:00  0.436794  negative  \n",
       "10 2018-08-24 17:53:00  0.397795  negative  \n",
       "11 2018-08-22 12:58:00  0.399352  negative  \n",
       "12 2018-07-24 18:01:00  0.394809  negative  \n",
       "13 2018-07-06 13:57:00  0.379677  positive  \n",
       "14 2018-06-18 11:43:00  0.401895  negative  \n",
       "15 2018-05-22 13:40:00  0.402665  negative  \n",
       "16 2018-05-02 15:33:00  0.395606  positive  \n",
       "17 2018-04-30 22:16:00  0.399579  negative  \n",
       "18 2018-03-04 17:10:00  0.410220  negative  \n",
       "19 2018-02-17 10:49:00  0.383100  negative  "
      ]
     },
     "execution_count": 1386,
     "metadata": {},
     "output_type": "execute_result"
    }
   ],
   "source": [
    "tokens=token.split()\n",
    "print (tokens)\n",
    "top_k =20\n",
    "tag_date_commen=comment_tag_score(model_db,top_k,tokens, opl)\n",
    "tag_date_commen_score=tag_date_commen[['Comment_Index','Comments','Date','Score','sentiment']]\n",
    "tag_date_commen_score\n"
   ]
  },
  {
   "cell_type": "code",
   "execution_count": 1416,
   "metadata": {},
   "outputs": [],
   "source": [
    "number_sample=25\n",
    "def evalute_doc2vec(model_db,number_sample):\n",
    "    #tag_vector_comment_1=defaultdict(list)\n",
    "    mean_certainty=[]\n",
    "    certianty=[]\n",
    "    #right_doc=0 \n",
    "\n",
    "    for i in range(number_sample):\n",
    "        tag_vector_comment_1=defaultdict(list)\n",
    "        right_doc=0 \n",
    "        print (\"loop\",i)\n",
    "        chosen_idx = np.random.choice(model_db.docvecs.count,replace=True,size=1000)\n",
    "        for num in chosen_idx:\n",
    "            tag_1=training_corpus[num].tags[0]\n",
    "            comment=training_corpus[num].words\n",
    "            tag_vector_comment_1[tag_1].append(comment)\n",
    "            #print (\" Building Dic of random sample\", len (tag_vector_comment_1))\n",
    "  \n",
    "        for tag,item in tag_vector_comment_1.items():\n",
    "            #print (\" Inside the Dic\")\n",
    "            #print (\"tag from training corpus\", tag)        \n",
    "            text = list(itertools.chain(*item))\n",
    "            #print (\"Len of the dic of random sample)\", len (tag_vector_comment_1)) \n",
    "\n",
    "            inferred_docvec = model_db.infer_vector(text)\n",
    "            most_sims_vector = model_db.docvecs.most_similar([inferred_docvec],topn=10 )\n",
    "\n",
    "            sim_vector = dict(most_sims_vector)\n",
    "            tag_similariti=sim_vector.keys()\n",
    "            list_tag_sim=list (tag_similariti)\n",
    "\n",
    "            if tag in (list_tag_sim):\n",
    "                #print (\"Exit!\")\n",
    "                right_doc += 1\n",
    "            else:\n",
    "                #print (\"No Exit\")\n",
    "                right_doc += 0\n",
    "                    \n",
    "        #print (\"right_doc\", right_doc)  \n",
    "        accuracy_chain=right_doc/len ( tag_vector_comment_1)\n",
    "        print (\"accuracy_chain\", accuracy_chain)\n",
    "        certianty.append(accuracy_chain)\n",
    "        print ('certainty of first 200 random samples from training dataset')\n",
    "        print (certianty)\n",
    "    mean_certainty=sum(certianty) / number_sample      \n",
    "    return mean_certainty"
   ]
  },
  {
   "cell_type": "markdown",
   "metadata": {},
   "source": [
    "### Evaluating the Doc2vec"
   ]
  },
  {
   "cell_type": "code",
   "execution_count": 1417,
   "metadata": {},
   "outputs": [
    {
     "name": "stdout",
     "output_type": "stream",
     "text": [
      "loop 0\n"
     ]
    },
    {
     "name": "stderr",
     "output_type": "stream",
     "text": [
      "/Library/Frameworks/Python.framework/Versions/3.7/lib/python3.7/site-packages/gensim/matutils.py:737: FutureWarning: Conversion of the second argument of issubdtype from `int` to `np.signedinteger` is deprecated. In future, it will be treated as `np.int64 == np.dtype(int).type`.\n",
      "  if np.issubdtype(vec.dtype, np.int):\n"
     ]
    },
    {
     "name": "stdout",
     "output_type": "stream",
     "text": [
      "accuracy_chain 0.8375378405650857\n",
      "certainty of first 200 random samples from training dataset\n",
      "[0.8375378405650857]\n",
      "loop 1\n",
      "accuracy_chain 0.8371859296482412\n",
      "certainty of first 200 random samples from training dataset\n",
      "[0.8375378405650857, 0.8371859296482412]\n",
      "loop 2\n",
      "accuracy_chain 0.7989949748743719\n",
      "certainty of first 200 random samples from training dataset\n",
      "[0.8375378405650857, 0.8371859296482412, 0.7989949748743719]\n",
      "loop 3\n",
      "accuracy_chain 0.8439073514602216\n",
      "certainty of first 200 random samples from training dataset\n",
      "[0.8375378405650857, 0.8371859296482412, 0.7989949748743719, 0.8439073514602216]\n",
      "loop 4\n",
      "accuracy_chain 0.8052208835341366\n",
      "certainty of first 200 random samples from training dataset\n",
      "[0.8375378405650857, 0.8371859296482412, 0.7989949748743719, 0.8439073514602216, 0.8052208835341366]\n",
      "loop 5\n",
      "accuracy_chain 0.8245967741935484\n",
      "certainty of first 200 random samples from training dataset\n",
      "[0.8375378405650857, 0.8371859296482412, 0.7989949748743719, 0.8439073514602216, 0.8052208835341366, 0.8245967741935484]\n",
      "loop 6\n",
      "accuracy_chain 0.8286290322580645\n",
      "certainty of first 200 random samples from training dataset\n",
      "[0.8375378405650857, 0.8371859296482412, 0.7989949748743719, 0.8439073514602216, 0.8052208835341366, 0.8245967741935484, 0.8286290322580645]\n",
      "loop 7\n",
      "accuracy_chain 0.8094758064516129\n",
      "certainty of first 200 random samples from training dataset\n",
      "[0.8375378405650857, 0.8371859296482412, 0.7989949748743719, 0.8439073514602216, 0.8052208835341366, 0.8245967741935484, 0.8286290322580645, 0.8094758064516129]\n",
      "loop 8\n",
      "accuracy_chain 0.8167170191339376\n",
      "certainty of first 200 random samples from training dataset\n",
      "[0.8375378405650857, 0.8371859296482412, 0.7989949748743719, 0.8439073514602216, 0.8052208835341366, 0.8245967741935484, 0.8286290322580645, 0.8094758064516129, 0.8167170191339376]\n",
      "loop 9\n",
      "accuracy_chain 0.8260869565217391\n",
      "certainty of first 200 random samples from training dataset\n",
      "[0.8375378405650857, 0.8371859296482412, 0.7989949748743719, 0.8439073514602216, 0.8052208835341366, 0.8245967741935484, 0.8286290322580645, 0.8094758064516129, 0.8167170191339376, 0.8260869565217391]\n",
      "loop 10\n",
      "accuracy_chain 0.8244197780020182\n",
      "certainty of first 200 random samples from training dataset\n",
      "[0.8375378405650857, 0.8371859296482412, 0.7989949748743719, 0.8439073514602216, 0.8052208835341366, 0.8245967741935484, 0.8286290322580645, 0.8094758064516129, 0.8167170191339376, 0.8260869565217391, 0.8244197780020182]\n",
      "loop 11\n",
      "accuracy_chain 0.8119312436804853\n",
      "certainty of first 200 random samples from training dataset\n",
      "[0.8375378405650857, 0.8371859296482412, 0.7989949748743719, 0.8439073514602216, 0.8052208835341366, 0.8245967741935484, 0.8286290322580645, 0.8094758064516129, 0.8167170191339376, 0.8260869565217391, 0.8244197780020182, 0.8119312436804853]\n",
      "loop 12\n",
      "accuracy_chain 0.8163471241170535\n",
      "certainty of first 200 random samples from training dataset\n",
      "[0.8375378405650857, 0.8371859296482412, 0.7989949748743719, 0.8439073514602216, 0.8052208835341366, 0.8245967741935484, 0.8286290322580645, 0.8094758064516129, 0.8167170191339376, 0.8260869565217391, 0.8244197780020182, 0.8119312436804853, 0.8163471241170535]\n",
      "loop 13\n",
      "accuracy_chain 0.8125\n",
      "certainty of first 200 random samples from training dataset\n",
      "[0.8375378405650857, 0.8371859296482412, 0.7989949748743719, 0.8439073514602216, 0.8052208835341366, 0.8245967741935484, 0.8286290322580645, 0.8094758064516129, 0.8167170191339376, 0.8260869565217391, 0.8244197780020182, 0.8119312436804853, 0.8163471241170535, 0.8125]\n",
      "loop 14\n",
      "accuracy_chain 0.8254288597376388\n",
      "certainty of first 200 random samples from training dataset\n",
      "[0.8375378405650857, 0.8371859296482412, 0.7989949748743719, 0.8439073514602216, 0.8052208835341366, 0.8245967741935484, 0.8286290322580645, 0.8094758064516129, 0.8167170191339376, 0.8260869565217391, 0.8244197780020182, 0.8119312436804853, 0.8163471241170535, 0.8125, 0.8254288597376388]\n",
      "loop 15\n",
      "accuracy_chain 0.8134403209628887\n",
      "certainty of first 200 random samples from training dataset\n",
      "[0.8375378405650857, 0.8371859296482412, 0.7989949748743719, 0.8439073514602216, 0.8052208835341366, 0.8245967741935484, 0.8286290322580645, 0.8094758064516129, 0.8167170191339376, 0.8260869565217391, 0.8244197780020182, 0.8119312436804853, 0.8163471241170535, 0.8125, 0.8254288597376388, 0.8134403209628887]\n",
      "loop 16\n",
      "accuracy_chain 0.8267875125881168\n",
      "certainty of first 200 random samples from training dataset\n",
      "[0.8375378405650857, 0.8371859296482412, 0.7989949748743719, 0.8439073514602216, 0.8052208835341366, 0.8245967741935484, 0.8286290322580645, 0.8094758064516129, 0.8167170191339376, 0.8260869565217391, 0.8244197780020182, 0.8119312436804853, 0.8163471241170535, 0.8125, 0.8254288597376388, 0.8134403209628887, 0.8267875125881168]\n",
      "loop 17\n",
      "accuracy_chain 0.8323232323232324\n",
      "certainty of first 200 random samples from training dataset\n",
      "[0.8375378405650857, 0.8371859296482412, 0.7989949748743719, 0.8439073514602216, 0.8052208835341366, 0.8245967741935484, 0.8286290322580645, 0.8094758064516129, 0.8167170191339376, 0.8260869565217391, 0.8244197780020182, 0.8119312436804853, 0.8163471241170535, 0.8125, 0.8254288597376388, 0.8134403209628887, 0.8267875125881168, 0.8323232323232324]\n",
      "loop 18\n",
      "accuracy_chain 0.8375125376128385\n",
      "certainty of first 200 random samples from training dataset\n",
      "[0.8375378405650857, 0.8371859296482412, 0.7989949748743719, 0.8439073514602216, 0.8052208835341366, 0.8245967741935484, 0.8286290322580645, 0.8094758064516129, 0.8167170191339376, 0.8260869565217391, 0.8244197780020182, 0.8119312436804853, 0.8163471241170535, 0.8125, 0.8254288597376388, 0.8134403209628887, 0.8267875125881168, 0.8323232323232324, 0.8375125376128385]\n",
      "loop 19\n",
      "accuracy_chain 0.8277945619335347\n",
      "certainty of first 200 random samples from training dataset\n",
      "[0.8375378405650857, 0.8371859296482412, 0.7989949748743719, 0.8439073514602216, 0.8052208835341366, 0.8245967741935484, 0.8286290322580645, 0.8094758064516129, 0.8167170191339376, 0.8260869565217391, 0.8244197780020182, 0.8119312436804853, 0.8163471241170535, 0.8125, 0.8254288597376388, 0.8134403209628887, 0.8267875125881168, 0.8323232323232324, 0.8375125376128385, 0.8277945619335347]\n",
      "loop 20\n",
      "accuracy_chain 0.8102926337033299\n",
      "certainty of first 200 random samples from training dataset\n",
      "[0.8375378405650857, 0.8371859296482412, 0.7989949748743719, 0.8439073514602216, 0.8052208835341366, 0.8245967741935484, 0.8286290322580645, 0.8094758064516129, 0.8167170191339376, 0.8260869565217391, 0.8244197780020182, 0.8119312436804853, 0.8163471241170535, 0.8125, 0.8254288597376388, 0.8134403209628887, 0.8267875125881168, 0.8323232323232324, 0.8375125376128385, 0.8277945619335347, 0.8102926337033299]\n",
      "loop 21\n",
      "accuracy_chain 0.8180904522613065\n",
      "certainty of first 200 random samples from training dataset\n",
      "[0.8375378405650857, 0.8371859296482412, 0.7989949748743719, 0.8439073514602216, 0.8052208835341366, 0.8245967741935484, 0.8286290322580645, 0.8094758064516129, 0.8167170191339376, 0.8260869565217391, 0.8244197780020182, 0.8119312436804853, 0.8163471241170535, 0.8125, 0.8254288597376388, 0.8134403209628887, 0.8267875125881168, 0.8323232323232324, 0.8375125376128385, 0.8277945619335347, 0.8102926337033299, 0.8180904522613065]\n",
      "loop 22\n",
      "accuracy_chain 0.8110552763819096\n",
      "certainty of first 200 random samples from training dataset\n",
      "[0.8375378405650857, 0.8371859296482412, 0.7989949748743719, 0.8439073514602216, 0.8052208835341366, 0.8245967741935484, 0.8286290322580645, 0.8094758064516129, 0.8167170191339376, 0.8260869565217391, 0.8244197780020182, 0.8119312436804853, 0.8163471241170535, 0.8125, 0.8254288597376388, 0.8134403209628887, 0.8267875125881168, 0.8323232323232324, 0.8375125376128385, 0.8277945619335347, 0.8102926337033299, 0.8180904522613065, 0.8110552763819096]\n",
      "loop 23\n",
      "accuracy_chain 0.8353413654618473\n",
      "certainty of first 200 random samples from training dataset\n",
      "[0.8375378405650857, 0.8371859296482412, 0.7989949748743719, 0.8439073514602216, 0.8052208835341366, 0.8245967741935484, 0.8286290322580645, 0.8094758064516129, 0.8167170191339376, 0.8260869565217391, 0.8244197780020182, 0.8119312436804853, 0.8163471241170535, 0.8125, 0.8254288597376388, 0.8134403209628887, 0.8267875125881168, 0.8323232323232324, 0.8375125376128385, 0.8277945619335347, 0.8102926337033299, 0.8180904522613065, 0.8110552763819096, 0.8353413654618473]\n",
      "loop 24\n"
     ]
    },
    {
     "name": "stdout",
     "output_type": "stream",
     "text": [
      "accuracy_chain 0.8118712273641852\n",
      "certainty of first 200 random samples from training dataset\n",
      "[0.8375378405650857, 0.8371859296482412, 0.7989949748743719, 0.8439073514602216, 0.8052208835341366, 0.8245967741935484, 0.8286290322580645, 0.8094758064516129, 0.8167170191339376, 0.8260869565217391, 0.8244197780020182, 0.8119312436804853, 0.8163471241170535, 0.8125, 0.8254288597376388, 0.8134403209628887, 0.8267875125881168, 0.8323232323232324, 0.8375125376128385, 0.8277945619335347, 0.8102926337033299, 0.8180904522613065, 0.8110552763819096, 0.8353413654618473, 0.8118712273641852]\n"
     ]
    },
    {
     "data": {
      "text/plain": [
       "0.8217395477908538"
      ]
     },
     "execution_count": 1417,
     "metadata": {},
     "output_type": "execute_result"
    }
   ],
   "source": [
    "\n",
    "\n",
    "mean_certainty= evalute_doc2vec(model_db,number_sample)\n",
    "time_consuming= time.process_time() - start_time\n",
    "\n",
    "\n",
    "mean_certainty"
   ]
  },
  {
   "cell_type": "code",
   "execution_count": 1418,
   "metadata": {},
   "outputs": [
    {
     "data": {
      "text/plain": [
       "(54757.14108500001, 0.8217395477908538)"
      ]
     },
     "execution_count": 1418,
     "metadata": {},
     "output_type": "execute_result"
    }
   ],
   "source": [
    "time_consuming,mean_certainty"
   ]
  },
  {
   "cell_type": "code",
   "execution_count": 1419,
   "metadata": {},
   "outputs": [
    {
     "name": "stdout",
     "output_type": "stream",
     "text": [
      "Test of the Doc2vec on 25000 samples is 0.8217395477908538\n"
     ]
    }
   ],
   "source": [
    "print(\"Test of the Doc2vec on\", 25* 1000, 'samples is',mean_certainty)"
   ]
  },
  {
   "cell_type": "markdown",
   "metadata": {},
   "source": [
    "## Load Dictionary by Json File"
   ]
  },
  {
   "cell_type": "code",
   "execution_count": 1420,
   "metadata": {},
   "outputs": [],
   "source": [
    "with open('data.json', encoding='utf-8') as data_file:\n",
    "    daily_performance = json.loads(data_file.read())"
   ]
  },
  {
   "cell_type": "markdown",
   "metadata": {},
   "source": [
    "## Append time traing and Performance to dictionary"
   ]
  },
  {
   "cell_type": "code",
   "execution_count": 1400,
   "metadata": {},
   "outputs": [],
   "source": [
    "def save_performance_daily_Doc2vec(opl,mean_certainty, time_consuming):\n",
    "    max_DATE=max(opl.Date)    \n",
    "    model_date=max_DATE.strftime('%Y-%m-%d')\n",
    "    print (model_date)\n",
    "    daily_performance[model_date]=(round(mean_certainty,2),round (time_consuming,2))\n",
    "    return daily_performance"
   ]
  },
  {
   "cell_type": "code",
   "execution_count": 1421,
   "metadata": {},
   "outputs": [
    {
     "name": "stdout",
     "output_type": "stream",
     "text": [
      "2019-01-03\n"
     ]
    }
   ],
   "source": [
    "daily_time_performance=save_performance_daily_Doc2vec(opl,mean_certainty, time_consuming)"
   ]
  },
  {
   "cell_type": "markdown",
   "metadata": {},
   "source": [
    "### Save the updated dictionary in json file"
   ]
  },
  {
   "cell_type": "code",
   "execution_count": 1422,
   "metadata": {},
   "outputs": [],
   "source": [
    "daily_time_performance\n",
    "\n",
    "with open('data.json', 'w') as fp:\n",
    "    json.dump(daily_time_performance, fp)"
   ]
  },
  {
   "cell_type": "markdown",
   "metadata": {},
   "source": [
    "### Function to load model if the performance of the model is greater that 0.8"
   ]
  },
  {
   "cell_type": "code",
   "execution_count": 1423,
   "metadata": {},
   "outputs": [],
   "source": [
    "\n",
    "\n",
    "def load_the_Doc2vec(daily_time_performance):\n",
    "    keymax=max(daily_time_performance)\n",
    "    keylist = daily_time_performance.keys()\n",
    "    itemlist = daily_time_performance.values()\n",
    "\n",
    "    print (itemlist)\n",
    "    list_key=list(keylist)\n",
    "    last_day_perforamnce=daily_time_performance[keymax]\n",
    "    type(last_day_perforamnce)\n",
    "    firstVal = last_day_perforamnce[0] \n",
    "    print (firstVal)\n",
    "    if firstVal>=0.8:\n",
    "        print (filename)\n",
    "        model_db_load= Doc2Vec.load(filename)\n",
    "        return model_db_load\n",
    "    else:\n",
    "        \n",
    "        for i in list_key:\n",
    "            find_day_perforamnce=daily_time_performance[i]\n",
    "            prformance_find=find_day_perforamnce[0]\n",
    "            if (prformance_find>=0.80):\n",
    "                filenamenew = 'FunctionDoc2Vec-%s'%i\n",
    "                print (filenamenew)\n",
    "                model_db_load= Doc2Vec.load(filenamenew)\n",
    "                return model_db_load\n",
    "                            "
   ]
  },
  {
   "cell_type": "code",
   "execution_count": 1424,
   "metadata": {},
   "outputs": [
    {
     "name": "stdout",
     "output_type": "stream",
     "text": [
      "dict_values([[0.88, 34025.62], [0.9, 35414.82], [0.87, 37350.41], [0.87, 36343.32], [0.86, 33630.36], [0.89, 38359.95], [0.88, 39454.87], [0.87, 40605.31], [0.88, 41980.68], [0.87, 42930.25], [0.89, 43898.91], [0.88, 45693.6], [0.88, 46838.91], [0.88, 47849.7], [0.83, 54240.18], (0.82, 54757.14), [0.84, 52799.93], [0.82, 53541.58]])\n",
      "0.82\n",
      "FunctionDoc2Vec-2019-01-03\n"
     ]
    }
   ],
   "source": [
    "model_db_load=load_the_Doc2vec(daily_time_performance)"
   ]
  },
  {
   "cell_type": "code",
   "execution_count": 1425,
   "metadata": {},
   "outputs": [
    {
     "name": "stdout",
     "output_type": "stream",
     "text": [
      "65907\n",
      "65907\n"
     ]
    }
   ],
   "source": [
    "print (model_db.corpus_count)\n",
    "print (model_db_load.corpus_count)"
   ]
  },
  {
   "cell_type": "code",
   "execution_count": null,
   "metadata": {},
   "outputs": [],
   "source": [
    "doc_performance_daily=pd.DataFrame.from_dict(daily_time_performance)\n",
    "doc_performance_timetraining= doc_performance_daily.T.reset_index()\n",
    "doc_performance_timetraining.columns=['Date','Performance','TimeTraining_Second']\n"
   ]
  },
  {
   "cell_type": "code",
   "execution_count": 1428,
   "metadata": {},
   "outputs": [
    {
     "data": {
      "text/html": [
       "<div>\n",
       "<style scoped>\n",
       "    .dataframe tbody tr th:only-of-type {\n",
       "        vertical-align: middle;\n",
       "    }\n",
       "\n",
       "    .dataframe tbody tr th {\n",
       "        vertical-align: top;\n",
       "    }\n",
       "\n",
       "    .dataframe thead th {\n",
       "        text-align: right;\n",
       "    }\n",
       "</style>\n",
       "<table border=\"1\" class=\"dataframe\">\n",
       "  <thead>\n",
       "    <tr style=\"text-align: right;\">\n",
       "      <th></th>\n",
       "      <th>Date</th>\n",
       "      <th>Performance</th>\n",
       "      <th>TimeTraining_Second</th>\n",
       "    </tr>\n",
       "  </thead>\n",
       "  <tbody>\n",
       "    <tr>\n",
       "      <th>1</th>\n",
       "      <td>2018-12-16</td>\n",
       "      <td>0.90</td>\n",
       "      <td>35414.82</td>\n",
       "    </tr>\n",
       "    <tr>\n",
       "      <th>0</th>\n",
       "      <td>2018-12-17</td>\n",
       "      <td>0.88</td>\n",
       "      <td>34025.62</td>\n",
       "    </tr>\n",
       "    <tr>\n",
       "      <th>3</th>\n",
       "      <td>2018-12-18</td>\n",
       "      <td>0.87</td>\n",
       "      <td>36343.32</td>\n",
       "    </tr>\n",
       "    <tr>\n",
       "      <th>2</th>\n",
       "      <td>2018-12-19</td>\n",
       "      <td>0.87</td>\n",
       "      <td>37350.41</td>\n",
       "    </tr>\n",
       "    <tr>\n",
       "      <th>4</th>\n",
       "      <td>2018-12-20</td>\n",
       "      <td>0.86</td>\n",
       "      <td>33630.36</td>\n",
       "    </tr>\n",
       "    <tr>\n",
       "      <th>5</th>\n",
       "      <td>2018-12-21</td>\n",
       "      <td>0.89</td>\n",
       "      <td>38359.95</td>\n",
       "    </tr>\n",
       "    <tr>\n",
       "      <th>6</th>\n",
       "      <td>2018-12-22</td>\n",
       "      <td>0.88</td>\n",
       "      <td>39454.87</td>\n",
       "    </tr>\n",
       "    <tr>\n",
       "      <th>7</th>\n",
       "      <td>2018-12-23</td>\n",
       "      <td>0.87</td>\n",
       "      <td>40605.31</td>\n",
       "    </tr>\n",
       "    <tr>\n",
       "      <th>8</th>\n",
       "      <td>2018-12-24</td>\n",
       "      <td>0.88</td>\n",
       "      <td>41980.68</td>\n",
       "    </tr>\n",
       "    <tr>\n",
       "      <th>9</th>\n",
       "      <td>2018-12-25</td>\n",
       "      <td>0.87</td>\n",
       "      <td>42930.25</td>\n",
       "    </tr>\n",
       "    <tr>\n",
       "      <th>10</th>\n",
       "      <td>2018-12-26</td>\n",
       "      <td>0.89</td>\n",
       "      <td>43898.91</td>\n",
       "    </tr>\n",
       "    <tr>\n",
       "      <th>11</th>\n",
       "      <td>2018-12-27</td>\n",
       "      <td>0.88</td>\n",
       "      <td>45693.60</td>\n",
       "    </tr>\n",
       "    <tr>\n",
       "      <th>12</th>\n",
       "      <td>2018-12-28</td>\n",
       "      <td>0.88</td>\n",
       "      <td>46838.91</td>\n",
       "    </tr>\n",
       "    <tr>\n",
       "      <th>13</th>\n",
       "      <td>2018-12-29</td>\n",
       "      <td>0.88</td>\n",
       "      <td>47849.70</td>\n",
       "    </tr>\n",
       "    <tr>\n",
       "      <th>14</th>\n",
       "      <td>2018-12-30</td>\n",
       "      <td>0.83</td>\n",
       "      <td>54240.18</td>\n",
       "    </tr>\n",
       "    <tr>\n",
       "      <th>17</th>\n",
       "      <td>2019-01-01</td>\n",
       "      <td>0.82</td>\n",
       "      <td>53541.58</td>\n",
       "    </tr>\n",
       "    <tr>\n",
       "      <th>16</th>\n",
       "      <td>2019-01-02</td>\n",
       "      <td>0.84</td>\n",
       "      <td>52799.93</td>\n",
       "    </tr>\n",
       "    <tr>\n",
       "      <th>15</th>\n",
       "      <td>2019-01-03</td>\n",
       "      <td>0.82</td>\n",
       "      <td>52238.70</td>\n",
       "    </tr>\n",
       "  </tbody>\n",
       "</table>\n",
       "</div>"
      ],
      "text/plain": [
       "          Date  Performance  TimeTraining_Second\n",
       "1   2018-12-16         0.90             35414.82\n",
       "0   2018-12-17         0.88             34025.62\n",
       "3   2018-12-18         0.87             36343.32\n",
       "2   2018-12-19         0.87             37350.41\n",
       "4   2018-12-20         0.86             33630.36\n",
       "5   2018-12-21         0.89             38359.95\n",
       "6   2018-12-22         0.88             39454.87\n",
       "7   2018-12-23         0.87             40605.31\n",
       "8   2018-12-24         0.88             41980.68\n",
       "9   2018-12-25         0.87             42930.25\n",
       "10  2018-12-26         0.89             43898.91\n",
       "11  2018-12-27         0.88             45693.60\n",
       "12  2018-12-28         0.88             46838.91\n",
       "13  2018-12-29         0.88             47849.70\n",
       "14  2018-12-30         0.83             54240.18\n",
       "17  2019-01-01         0.82             53541.58\n",
       "16  2019-01-02         0.84             52799.93\n",
       "15  2019-01-03         0.82             52238.70"
      ]
     },
     "execution_count": 1428,
     "metadata": {},
     "output_type": "execute_result"
    }
   ],
   "source": [
    "doc_performance_daily=doc_performance_timetraining.sort_values(['Date'])\n",
    "doc_performance_daily"
   ]
  },
  {
   "cell_type": "markdown",
   "metadata": {},
   "source": [
    "### Tracking the performance of the daily Doc2Vec along with treshhold '0.8'\n"
   ]
  },
  {
   "cell_type": "code",
   "execution_count": 1430,
   "metadata": {},
   "outputs": [
    {
     "data": {
      "image/png": "[encoded data removed]",
      "text/plain": [
       "<Figure size 1080x720 with 1 Axes>"
      ]
     },
     "metadata": {},
     "output_type": "display_data"
    }
   ],
   "source": [
    "plt.figure(figsize=(15,10))\n",
    "plt.plot(doc_performance_daily['Date'],doc_performance_daily['Performance'], color='green', label='Date versus daily performance')\n",
    "plt.axhline(y=0.80, color='r',linewidth=2)\n",
    "plt.legend(loc='upper left')\n",
    "plt.xticks(rotation='vertical')\n",
    "plt.xlabel('Daily Date')\n",
    "plt.ylabel('Performance')\n",
    "plt.show()"
   ]
  }
 ],
 "metadata": {
  "kernelspec": {
   "display_name": "Python 3",
   "language": "python",
   "name": "python3"
  },
  "language_info": {
   "codemirror_mode": {
    "name": "ipython",
    "version": 3
   },
   "file_extension": ".py",
   "mimetype": "text/x-python",
   "name": "python",
   "nbconvert_exporter": "python",
   "pygments_lexer": "ipython3",
   "version": "3.7.0"
  }
 },
 "nbformat": 4,
 "nbformat_minor": 2
}
